{
 "cells": [
  {
   "cell_type": "code",
   "execution_count": 1,
   "metadata": {},
   "outputs": [],
   "source": [
    "import pandas as pd\n",
    "import numpy as np"
   ]
  },
  {
   "cell_type": "code",
   "execution_count": 2,
   "metadata": {},
   "outputs": [],
   "source": [
    "# This will tell us the columns we are predicting\n",
    "pred_cols = ['reactivity', 'deg_Mg_pH10', 'deg_pH10', 'deg_Mg_50C', 'deg_50C']"
   ]
  },
  {
   "cell_type": "code",
   "execution_count": 3,
   "metadata": {},
   "outputs": [],
   "source": [
    "SEED = 2020"
   ]
  },
  {
   "cell_type": "markdown",
   "metadata": {},
   "source": [
    "# 1"
   ]
  },
  {
   "cell_type": "code",
   "execution_count": 4,
   "metadata": {},
   "outputs": [],
   "source": [
    "sub1 = pd.read_csv('./submission_bpps_large_attention_relu_dense_2020_0.csv')\n",
    "sub2 = pd.read_csv('./submission_bpps_large_attention_relu_dense_2020_1.csv')\n",
    "sub3 = pd.read_csv('./submission_bpps_large_attention_relu_dense_2020_2.csv')\n",
    "sub4 = pd.read_csv('./submission_bpps_large_attention_relu_dense_2020_3.csv')\n",
    "sub5 = pd.read_csv('./submission_bpps_large_attention_relu_dense_2020_4.csv')\n",
    "\n",
    "new_sub = sub1.copy()\n",
    "\n",
    "new_sub[pred_cols] = (1/5) * (sub1[pred_cols].values + sub2[pred_cols].values + sub3[pred_cols].values + sub4[pred_cols].values + sub5[pred_cols].values)\n",
    "\n",
    "new_sub.to_csv('./submission_bpps_large_attention_relu_dense_2020_5fold.csv', index=False)"
   ]
  },
  {
   "cell_type": "code",
   "execution_count": 5,
   "metadata": {},
   "outputs": [],
   "source": [
    "sub1 = pd.read_csv('./submission_bpps_large_attention_relu_dense_815_0.csv')\n",
    "sub2 = pd.read_csv('./submission_bpps_large_attention_relu_dense_815_1.csv')\n",
    "sub3 = pd.read_csv('./submission_bpps_large_attention_relu_dense_815_2.csv')\n",
    "sub4 = pd.read_csv('./submission_bpps_large_attention_relu_dense_815_3.csv')\n",
    "sub5 = pd.read_csv('./submission_bpps_large_attention_relu_dense_815_4.csv')\n",
    "\n",
    "new_sub = sub1.copy()\n",
    "\n",
    "new_sub[pred_cols] = (1/5) * (sub1[pred_cols].values + sub2[pred_cols].values + sub3[pred_cols].values + sub4[pred_cols].values + sub5[pred_cols].values)\n",
    "\n",
    "new_sub.to_csv('./submission_bpps_large_attention_relu_dense_815_5fold.csv', index=False)"
   ]
  },
  {
   "cell_type": "markdown",
   "metadata": {},
   "source": [
    "# 2"
   ]
  },
  {
   "cell_type": "code",
   "execution_count": 6,
   "metadata": {},
   "outputs": [],
   "source": [
    "sub1 = pd.read_csv('./submission_bpps_large_lstm_gru_gru_newloss_2020_0.csv')\n",
    "sub2 = pd.read_csv('./submission_bpps_large_lstm_gru_gru_newloss_2020_1.csv')\n",
    "sub3 = pd.read_csv('./submission_bpps_large_lstm_gru_gru_newloss_2020_2.csv')\n",
    "sub4 = pd.read_csv('./submission_bpps_large_lstm_gru_gru_newloss_2020_3.csv')\n",
    "sub5 = pd.read_csv('./submission_bpps_large_lstm_gru_gru_newloss_2020_4.csv')\n",
    "\n",
    "new_sub = sub1.copy()\n",
    "\n",
    "new_sub[pred_cols] = (1/5) * (sub1[pred_cols].values + sub2[pred_cols].values + sub3[pred_cols].values + sub4[pred_cols].values + sub5[pred_cols].values)\n",
    "\n",
    "new_sub.to_csv('./submission_bpps_large_lstm_gru_gru_newloss_2020_5fold.csv', index=False)"
   ]
  },
  {
   "cell_type": "code",
   "execution_count": null,
   "metadata": {},
   "outputs": [],
   "source": []
  },
  {
   "cell_type": "code",
   "execution_count": 7,
   "metadata": {},
   "outputs": [],
   "source": [
    "sub1 = pd.read_csv('./submission_bpps_large_lstm_gru_gru_newloss_815_0.csv')\n",
    "sub2 = pd.read_csv('./submission_bpps_large_lstm_gru_gru_newloss_815_1.csv')\n",
    "sub3 = pd.read_csv('./submission_bpps_large_lstm_gru_gru_newloss_815_2.csv')\n",
    "sub4 = pd.read_csv('./submission_bpps_large_lstm_gru_gru_newloss_815_3.csv')\n",
    "sub5 = pd.read_csv('./submission_bpps_large_lstm_gru_gru_newloss_815_4.csv')\n",
    "\n",
    "new_sub = sub1.copy()\n",
    "\n",
    "new_sub[pred_cols] = (1/5) * (sub1[pred_cols].values + sub2[pred_cols].values + sub3[pred_cols].values + sub4[pred_cols].values + sub5[pred_cols].values)\n",
    "\n",
    "new_sub.to_csv('./submission_bpps_large_lstm_gru_gru_newloss_815_5fold.csv', index=False)"
   ]
  },
  {
   "cell_type": "markdown",
   "metadata": {},
   "source": [
    "# 3"
   ]
  },
  {
   "cell_type": "code",
   "execution_count": 8,
   "metadata": {},
   "outputs": [],
   "source": [
    "sub1 = pd.read_csv('./submission_tf_simple_lstm_large_noise_more_epochs_bpps_large_attention_relu_newloss_2020_0.csv')\n",
    "sub2 = pd.read_csv('./submission_tf_simple_lstm_large_noise_more_epochs_bpps_large_attention_relu_newloss_2020_1.csv')\n",
    "sub3 = pd.read_csv('./submission_tf_simple_lstm_large_noise_more_epochs_bpps_large_attention_relu_newloss_2020_2.csv')\n",
    "sub4 = pd.read_csv('./submission_tf_simple_lstm_large_noise_more_epochs_bpps_large_attention_relu_newloss_2020_3.csv')\n",
    "sub5 = pd.read_csv('./submission_tf_simple_lstm_large_noise_more_epochs_bpps_large_attention_relu_newloss_2020_4.csv')\n",
    "\n",
    "new_sub = sub1.copy()\n",
    "\n",
    "new_sub[pred_cols] = (1/5) * (sub1[pred_cols].values + sub2[pred_cols].values + sub3[pred_cols].values + sub4[pred_cols].values + sub5[pred_cols].values)\n",
    "\n",
    "new_sub.to_csv('./submission_tf_simple_lstm_large_noise_more_epochs_bpps_large_attention_relu_newloss_2020_5fold.csv', index=False)"
   ]
  },
  {
   "cell_type": "code",
   "execution_count": 9,
   "metadata": {},
   "outputs": [],
   "source": [
    "sub1 = pd.read_csv('./submission_tf_simple_lstm_large_noise_more_epochs_bpps_large_attention_relu_newloss_815_0.csv')\n",
    "sub2 = pd.read_csv('./submission_tf_simple_lstm_large_noise_more_epochs_bpps_large_attention_relu_newloss_815_1.csv')\n",
    "sub3 = pd.read_csv('./submission_tf_simple_lstm_large_noise_more_epochs_bpps_large_attention_relu_newloss_815_2.csv')\n",
    "sub4 = pd.read_csv('./submission_tf_simple_lstm_large_noise_more_epochs_bpps_large_attention_relu_newloss_815_3.csv')\n",
    "sub5 = pd.read_csv('./submission_tf_simple_lstm_large_noise_more_epochs_bpps_large_attention_relu_newloss_815_4.csv')\n",
    "\n",
    "new_sub = sub1.copy()\n",
    "\n",
    "new_sub[pred_cols] = (1/5) * (sub1[pred_cols].values + sub2[pred_cols].values + sub3[pred_cols].values + sub4[pred_cols].values + sub5[pred_cols].values)\n",
    "\n",
    "new_sub.to_csv('./submission_tf_simple_lstm_large_noise_more_epochs_bpps_large_attention_relu_newloss_815_5fold.csv', index=False)"
   ]
  },
  {
   "cell_type": "markdown",
   "metadata": {},
   "source": [
    "# 4"
   ]
  },
  {
   "cell_type": "code",
   "execution_count": 10,
   "metadata": {},
   "outputs": [],
   "source": [
    "sub1 = pd.read_csv('./submission_tf_simple_lstm_large_noise_more_epochs_bpps_large_new_loss_transformer_threeEmbedding_gru_twoloss_2020_0.csv')\n",
    "sub2 = pd.read_csv('./submission_tf_simple_lstm_large_noise_more_epochs_bpps_large_new_loss_transformer_threeEmbedding_gru_twoloss_2020_1.csv')\n",
    "sub3 = pd.read_csv('./submission_tf_simple_lstm_large_noise_more_epochs_bpps_large_new_loss_transformer_threeEmbedding_gru_twoloss_2020_2.csv')\n",
    "sub4 = pd.read_csv('./submission_tf_simple_lstm_large_noise_more_epochs_bpps_large_new_loss_transformer_threeEmbedding_gru_twoloss_2020_3.csv')\n",
    "sub5 = pd.read_csv('./submission_tf_simple_lstm_large_noise_more_epochs_bpps_large_new_loss_transformer_threeEmbedding_gru_twoloss_2020_4.csv')\n",
    "\n",
    "new_sub = sub1.copy()\n",
    "\n",
    "new_sub[pred_cols] = (1/5) * (sub1[pred_cols].values + sub2[pred_cols].values + sub3[pred_cols].values + sub4[pred_cols].values + sub5[pred_cols].values)\n",
    "\n",
    "new_sub.to_csv('./submission_tf_simple_lstm_large_noise_more_epochs_bpps_large_new_loss_transformer_threeEmbedding_gru_twoloss_2020_5fold.csv', index=False)"
   ]
  },
  {
   "cell_type": "code",
   "execution_count": 11,
   "metadata": {},
   "outputs": [],
   "source": [
    "sub1 = pd.read_csv('./submission_tf_simple_lstm_large_noise_more_epochs_bpps_large_new_loss_transformer_threeEmbedding_gru_twoloss_815_0.csv')\n",
    "sub2 = pd.read_csv('./submission_tf_simple_lstm_large_noise_more_epochs_bpps_large_new_loss_transformer_threeEmbedding_gru_twoloss_815_1.csv')\n",
    "sub3 = pd.read_csv('./submission_tf_simple_lstm_large_noise_more_epochs_bpps_large_new_loss_transformer_threeEmbedding_gru_twoloss_815_2.csv')\n",
    "sub4 = pd.read_csv('./submission_tf_simple_lstm_large_noise_more_epochs_bpps_large_new_loss_transformer_threeEmbedding_gru_twoloss_815_3.csv')\n",
    "sub5 = pd.read_csv('./submission_tf_simple_lstm_large_noise_more_epochs_bpps_large_new_loss_transformer_threeEmbedding_gru_twoloss_815_4.csv')\n",
    "\n",
    "new_sub = sub1.copy()\n",
    "\n",
    "new_sub[pred_cols] = (1/5) * (sub1[pred_cols].values + sub2[pred_cols].values + sub3[pred_cols].values + sub4[pred_cols].values + sub5[pred_cols].values)\n",
    "\n",
    "new_sub.to_csv('./submission_tf_simple_lstm_large_noise_more_epochs_bpps_large_new_loss_transformer_threeEmbedding_gru_twoloss_815_5fold.csv', index=False)"
   ]
  },
  {
   "cell_type": "markdown",
   "metadata": {},
   "source": [
    "# 5"
   ]
  },
  {
   "cell_type": "code",
   "execution_count": 12,
   "metadata": {},
   "outputs": [],
   "source": [
    "sub1 = pd.read_csv('./submission_tf_simple_lstm_large_noise_more_epochs_bpps_large_new_loss_transformer_threeEmbedding_gru_twoloss_newStruc_2020_0.csv')\n",
    "sub2 = pd.read_csv('./submission_tf_simple_lstm_large_noise_more_epochs_bpps_large_new_loss_transformer_threeEmbedding_gru_twoloss_newStruc_2020_1.csv')\n",
    "sub3 = pd.read_csv('./submission_tf_simple_lstm_large_noise_more_epochs_bpps_large_new_loss_transformer_threeEmbedding_gru_twoloss_newStruc_2020_2.csv')\n",
    "sub4 = pd.read_csv('./submission_tf_simple_lstm_large_noise_more_epochs_bpps_large_new_loss_transformer_threeEmbedding_gru_twoloss_newStruc_2020_3.csv')\n",
    "sub5 = pd.read_csv('./submission_tf_simple_lstm_large_noise_more_epochs_bpps_large_new_loss_transformer_threeEmbedding_gru_twoloss_newStruc_2020_4.csv')\n",
    "\n",
    "new_sub = sub1.copy()\n",
    "\n",
    "new_sub[pred_cols] = (1/5) * (sub1[pred_cols].values + sub2[pred_cols].values + sub3[pred_cols].values + sub4[pred_cols].values + sub5[pred_cols].values)\n",
    "\n",
    "new_sub.to_csv('./submission_tf_simple_lstm_large_noise_more_epochs_bpps_large_new_loss_transformer_threeEmbedding_gru_twoloss_newStruc_2020_5fold.csv', index=False)"
   ]
  },
  {
   "cell_type": "code",
   "execution_count": 13,
   "metadata": {},
   "outputs": [],
   "source": [
    "sub1 = pd.read_csv('./submission_tf_simple_lstm_large_noise_more_epochs_bpps_large_new_loss_transformer_threeEmbedding_gru_twoloss_newStruc_815_0.csv')\n",
    "sub2 = pd.read_csv('./submission_tf_simple_lstm_large_noise_more_epochs_bpps_large_new_loss_transformer_threeEmbedding_gru_twoloss_newStruc_815_1.csv')\n",
    "sub3 = pd.read_csv('./submission_tf_simple_lstm_large_noise_more_epochs_bpps_large_new_loss_transformer_threeEmbedding_gru_twoloss_newStruc_815_2.csv')\n",
    "sub4 = pd.read_csv('./submission_tf_simple_lstm_large_noise_more_epochs_bpps_large_new_loss_transformer_threeEmbedding_gru_twoloss_newStruc_815_3.csv')\n",
    "sub5 = pd.read_csv('./submission_tf_simple_lstm_large_noise_more_epochs_bpps_large_new_loss_transformer_threeEmbedding_gru_twoloss_newStruc_815_4.csv')\n",
    "\n",
    "new_sub = sub1.copy()\n",
    "\n",
    "new_sub[pred_cols] = (1/5) * (sub1[pred_cols].values + sub2[pred_cols].values + sub3[pred_cols].values + sub4[pred_cols].values + sub5[pred_cols].values)\n",
    "\n",
    "new_sub.to_csv('./submission_tf_simple_lstm_large_noise_more_epochs_bpps_large_new_loss_transformer_threeEmbedding_gru_twoloss_newStruc_815_5fold.csv', index=False)"
   ]
  },
  {
   "cell_type": "markdown",
   "metadata": {},
   "source": [
    "# 6"
   ]
  },
  {
   "cell_type": "code",
   "execution_count": 14,
   "metadata": {},
   "outputs": [],
   "source": [
    "sub1 = pd.read_csv('./submission_tf_simple_lstm_large_noise_more_epochs_bpps_large_new_loss_transformer_threeEmbedding_gru_twoloss_posEnc_BeforeConcat_2020_0.csv')\n",
    "sub2 = pd.read_csv('./submission_tf_simple_lstm_large_noise_more_epochs_bpps_large_new_loss_transformer_threeEmbedding_gru_twoloss_posEnc_BeforeConcat_2020_1.csv')\n",
    "sub3 = pd.read_csv('./submission_tf_simple_lstm_large_noise_more_epochs_bpps_large_new_loss_transformer_threeEmbedding_gru_twoloss_posEnc_BeforeConcat_2020_2.csv')\n",
    "sub4 = pd.read_csv('./submission_tf_simple_lstm_large_noise_more_epochs_bpps_large_new_loss_transformer_threeEmbedding_gru_twoloss_posEnc_BeforeConcat_2020_3.csv')\n",
    "sub5 = pd.read_csv('./submission_tf_simple_lstm_large_noise_more_epochs_bpps_large_new_loss_transformer_threeEmbedding_gru_twoloss_posEnc_BeforeConcat_2020_4.csv')\n",
    "\n",
    "new_sub = sub1.copy()\n",
    "\n",
    "new_sub[pred_cols] = (1/5) * (sub1[pred_cols].values + sub2[pred_cols].values + sub3[pred_cols].values + sub4[pred_cols].values + sub5[pred_cols].values)\n",
    "\n",
    "new_sub.to_csv('./submission_tf_simple_lstm_large_noise_more_epochs_bpps_large_new_loss_transformer_threeEmbedding_gru_twoloss_posEnc_BeforeConcat_2020_5fold.csv', index=False)"
   ]
  },
  {
   "cell_type": "code",
   "execution_count": 15,
   "metadata": {},
   "outputs": [],
   "source": [
    "sub1 = pd.read_csv('./submission_tf_simple_lstm_large_noise_more_epochs_bpps_large_new_loss_transformer_threeEmbedding_gru_twoloss_posEnc_BeforeConcat_815_0.csv')\n",
    "sub2 = pd.read_csv('./submission_tf_simple_lstm_large_noise_more_epochs_bpps_large_new_loss_transformer_threeEmbedding_gru_twoloss_posEnc_BeforeConcat_815_1.csv')\n",
    "sub3 = pd.read_csv('./submission_tf_simple_lstm_large_noise_more_epochs_bpps_large_new_loss_transformer_threeEmbedding_gru_twoloss_posEnc_BeforeConcat_815_2.csv')\n",
    "sub4 = pd.read_csv('./submission_tf_simple_lstm_large_noise_more_epochs_bpps_large_new_loss_transformer_threeEmbedding_gru_twoloss_posEnc_BeforeConcat_815_3.csv')\n",
    "sub5 = pd.read_csv('./submission_tf_simple_lstm_large_noise_more_epochs_bpps_large_new_loss_transformer_threeEmbedding_gru_twoloss_posEnc_BeforeConcat_815_4.csv')\n",
    "\n",
    "new_sub = sub1.copy()\n",
    "\n",
    "new_sub[pred_cols] = (1/5) * (sub1[pred_cols].values + sub2[pred_cols].values + sub3[pred_cols].values + sub4[pred_cols].values + sub5[pred_cols].values)\n",
    "\n",
    "new_sub.to_csv('./submission_tf_simple_lstm_large_noise_more_epochs_bpps_large_new_loss_transformer_threeEmbedding_gru_twoloss_posEnc_BeforeConcat_815_5fold.csv', index=False)"
   ]
  },
  {
   "cell_type": "code",
   "execution_count": null,
   "metadata": {},
   "outputs": [],
   "source": []
  },
  {
   "cell_type": "markdown",
   "metadata": {},
   "source": [
    "# 7"
   ]
  },
  {
   "cell_type": "code",
   "execution_count": 16,
   "metadata": {},
   "outputs": [],
   "source": [
    "sub1 = pd.read_csv('./submission_tf_simple_lstm_large_noise_more_epochs_bpps_large_new_loss_815_0.csv')\n",
    "sub2 = pd.read_csv('./submission_tf_simple_lstm_large_noise_more_epochs_bpps_large_new_loss_815_1.csv')\n",
    "sub3 = pd.read_csv('./submission_tf_simple_lstm_large_noise_more_epochs_bpps_large_new_loss_815_2.csv')\n",
    "sub4 = pd.read_csv('./submission_tf_simple_lstm_large_noise_more_epochs_bpps_large_new_loss_815_3.csv')\n",
    "sub5 = pd.read_csv('./submission_tf_simple_lstm_large_noise_more_epochs_bpps_large_new_loss_815_4.csv')\n",
    "\n",
    "new_sub = sub1.copy()\n",
    "\n",
    "new_sub[pred_cols] = (1/5) * (sub1[pred_cols].values + sub2[pred_cols].values + sub3[pred_cols].values + sub4[pred_cols].values + sub5[pred_cols].values)\n",
    "\n",
    "new_sub.to_csv('./tf_simple_lstm_large_noise_more_epochs_bpps_large_new_loss_815_5fold.csv', index=False)"
   ]
  },
  {
   "cell_type": "code",
   "execution_count": 17,
   "metadata": {},
   "outputs": [],
   "source": [
    "sub1 = pd.read_csv('./tf_simple_lstm_large_noise_more_epochs_bpps_large_new_loss_2020_0.csv')\n",
    "sub2 = pd.read_csv('./tf_simple_lstm_large_noise_more_epochs_bpps_large_new_loss_2020_1.csv')\n",
    "sub3 = pd.read_csv('./tf_simple_lstm_large_noise_more_epochs_bpps_large_new_loss_2020_2.csv')\n",
    "sub4 = pd.read_csv('./tf_simple_lstm_large_noise_more_epochs_bpps_large_new_loss_2020_3.csv')\n",
    "sub5 = pd.read_csv('./tf_simple_lstm_large_noise_more_epochs_bpps_large_new_loss_2020_4.csv')\n",
    "\n",
    "new_sub = sub1.copy()\n",
    "\n",
    "new_sub[pred_cols] = (1/5) * (sub1[pred_cols].values + sub2[pred_cols].values + sub3[pred_cols].values + sub4[pred_cols].values + sub5[pred_cols].values)\n",
    "\n",
    "new_sub.to_csv('./tf_simple_lstm_large_noise_more_epochs_bpps_large_new_loss_2020_5fold.csv', index=False)"
   ]
  },
  {
   "cell_type": "markdown",
   "metadata": {},
   "source": [
    "# Ensemble7_2020"
   ]
  },
  {
   "cell_type": "code",
   "execution_count": 18,
   "metadata": {},
   "outputs": [],
   "source": [
    "sub1 = pd.read_csv('./submission_bpps_large_attention_relu_dense_2020_5fold.csv')\n",
    "sub2 = pd.read_csv('./submission_bpps_large_lstm_gru_gru_newloss_2020_5fold.csv')\n",
    "sub3 = pd.read_csv('./tf_simple_lstm_large_noise_more_epochs_bpps_large_new_loss_2020_5fold.csv')\n",
    "sub4 = pd.read_csv('./submission_tf_simple_lstm_large_noise_more_epochs_bpps_large_attention_relu_newloss_2020_5fold.csv')\n",
    "sub5 = pd.read_csv('./submission_tf_simple_lstm_large_noise_more_epochs_bpps_large_new_loss_transformer_threeEmbedding_gru_twoloss_2020_5fold.csv') #25513\n",
    "sub6 = pd.read_csv('./submission_tf_simple_lstm_large_noise_more_epochs_bpps_large_new_loss_transformer_threeEmbedding_gru_twoloss_newStruc_2020_5fold.csv') #25610\n",
    "sub7 = pd.read_csv('./submission_tf_simple_lstm_large_noise_more_epochs_bpps_large_new_loss_transformer_threeEmbedding_gru_twoloss_posEnc_BeforeConcat_2020_5fold.csv') # 25755\n",
    "\n",
    "new_sub = sub1.copy()\n",
    "\n",
    "new_sub[pred_cols] = (1/7) * (sub1[pred_cols].values + sub2[pred_cols].values + sub3[pred_cols].values + sub4[pred_cols].values + \\\n",
    "                             sub5[pred_cols].values + sub6[pred_cols].values + sub7[pred_cols].values)\n",
    "\n",
    "new_sub.to_csv('./ensemble_v7_2020.csv', index=False)"
   ]
  },
  {
   "cell_type": "code",
   "execution_count": 19,
   "metadata": {},
   "outputs": [],
   "source": [
    "sub1 = pd.read_csv('./submission_bpps_large_attention_relu_dense_815_5fold.csv')\n",
    "sub2 = pd.read_csv('./submission_bpps_large_lstm_gru_gru_newloss_815_5fold.csv')\n",
    "sub3 = pd.read_csv('./tf_simple_lstm_large_noise_more_epochs_bpps_large_new_loss_815_5fold.csv')\n",
    "sub4 = pd.read_csv('./submission_tf_simple_lstm_large_noise_more_epochs_bpps_large_attention_relu_newloss_815_5fold.csv')\n",
    "sub5 = pd.read_csv('./submission_tf_simple_lstm_large_noise_more_epochs_bpps_large_new_loss_transformer_threeEmbedding_gru_twoloss_815_5fold.csv') #25513\n",
    "sub6 = pd.read_csv('./submission_tf_simple_lstm_large_noise_more_epochs_bpps_large_new_loss_transformer_threeEmbedding_gru_twoloss_newStruc_815_5fold.csv') #25610\n",
    "sub7 = pd.read_csv('./submission_tf_simple_lstm_large_noise_more_epochs_bpps_large_new_loss_transformer_threeEmbedding_gru_twoloss_posEnc_BeforeConcat_815_5fold.csv') # 25755\n",
    "\n",
    "new_sub = sub1.copy()\n",
    "\n",
    "new_sub[pred_cols] = (1/7) * (sub1[pred_cols].values + sub2[pred_cols].values + sub3[pred_cols].values + sub4[pred_cols].values + \\\n",
    "                             sub5[pred_cols].values + sub6[pred_cols].values + sub7[pred_cols].values)\n",
    "\n",
    "new_sub.to_csv('./ensemble_v7_815.csv', index=False)"
   ]
  },
  {
   "cell_type": "code",
   "execution_count": null,
   "metadata": {},
   "outputs": [],
   "source": []
  },
  {
   "cell_type": "code",
   "execution_count": 20,
   "metadata": {},
   "outputs": [],
   "source": [
    "sub1 = pd.read_csv('./ensemble_v7.csv')\n",
    "sub2 = pd.read_csv('./ensemble_v7_2020.csv')\n",
    "sub3 = pd.read_csv('./ensemble_v7_815.csv')\n",
    "\n",
    "new_sub = sub1.copy()\n",
    "\n",
    "new_sub[pred_cols] = (1/3) * (sub1[pred_cols].values + sub2[pred_cols].values + sub3[pred_cols].values)\n",
    "\n",
    "new_sub.to_csv('./ensemble_v7_42_2020_815.csv', index=False)"
   ]
  },
  {
   "cell_type": "code",
   "execution_count": 21,
   "metadata": {},
   "outputs": [],
   "source": [
    "best = pd.read_csv('./ensemble_v7.csv')"
   ]
  },
  {
   "cell_type": "code",
   "execution_count": 22,
   "metadata": {},
   "outputs": [
    {
     "data": {
      "text/plain": [
       "array([[1.        , 0.99935954],\n",
       "       [0.99935954, 1.        ]])"
      ]
     },
     "execution_count": 22,
     "metadata": {},
     "output_type": "execute_result"
    }
   ],
   "source": [
    "np.corrcoef(best[pred_cols[0]], new_sub[pred_cols[0]])"
   ]
  },
  {
   "cell_type": "code",
   "execution_count": 23,
   "metadata": {},
   "outputs": [
    {
     "data": {
      "text/plain": [
       "array([[1.        , 0.99933153],\n",
       "       [0.99933153, 1.        ]])"
      ]
     },
     "execution_count": 23,
     "metadata": {},
     "output_type": "execute_result"
    }
   ],
   "source": [
    "np.corrcoef(best[pred_cols[1]], new_sub[pred_cols[1]])"
   ]
  },
  {
   "cell_type": "code",
   "execution_count": 24,
   "metadata": {},
   "outputs": [
    {
     "data": {
      "text/plain": [
       "array([[1.        , 0.99937119],\n",
       "       [0.99937119, 1.        ]])"
      ]
     },
     "execution_count": 24,
     "metadata": {},
     "output_type": "execute_result"
    }
   ],
   "source": [
    "np.corrcoef(best[pred_cols[2]], new_sub[pred_cols[2]])"
   ]
  },
  {
   "cell_type": "code",
   "execution_count": 25,
   "metadata": {},
   "outputs": [
    {
     "data": {
      "text/plain": [
       "array([[1.        , 0.99940264],\n",
       "       [0.99940264, 1.        ]])"
      ]
     },
     "execution_count": 25,
     "metadata": {},
     "output_type": "execute_result"
    }
   ],
   "source": [
    "np.corrcoef(best[pred_cols[3]], new_sub[pred_cols[3]])"
   ]
  },
  {
   "cell_type": "code",
   "execution_count": 26,
   "metadata": {},
   "outputs": [
    {
     "data": {
      "text/html": [
       "<div>\n",
       "<style scoped>\n",
       "    .dataframe tbody tr th:only-of-type {\n",
       "        vertical-align: middle;\n",
       "    }\n",
       "\n",
       "    .dataframe tbody tr th {\n",
       "        vertical-align: top;\n",
       "    }\n",
       "\n",
       "    .dataframe thead th {\n",
       "        text-align: right;\n",
       "    }\n",
       "</style>\n",
       "<table border=\"1\" class=\"dataframe\">\n",
       "  <thead>\n",
       "    <tr style=\"text-align: right;\">\n",
       "      <th></th>\n",
       "      <th>id_seqpos</th>\n",
       "      <th>reactivity</th>\n",
       "      <th>deg_Mg_pH10</th>\n",
       "      <th>deg_pH10</th>\n",
       "      <th>deg_Mg_50C</th>\n",
       "      <th>deg_50C</th>\n",
       "    </tr>\n",
       "  </thead>\n",
       "  <tbody>\n",
       "    <tr>\n",
       "      <th>0</th>\n",
       "      <td>id_00073f8be_0</td>\n",
       "      <td>0.869267</td>\n",
       "      <td>0.657843</td>\n",
       "      <td>2.040880</td>\n",
       "      <td>0.544500</td>\n",
       "      <td>0.789857</td>\n",
       "    </tr>\n",
       "    <tr>\n",
       "      <th>1</th>\n",
       "      <td>id_00073f8be_1</td>\n",
       "      <td>2.320747</td>\n",
       "      <td>3.411660</td>\n",
       "      <td>3.982939</td>\n",
       "      <td>3.212782</td>\n",
       "      <td>2.778019</td>\n",
       "    </tr>\n",
       "    <tr>\n",
       "      <th>2</th>\n",
       "      <td>id_00073f8be_2</td>\n",
       "      <td>1.705457</td>\n",
       "      <td>0.707715</td>\n",
       "      <td>0.730908</td>\n",
       "      <td>0.795266</td>\n",
       "      <td>0.675442</td>\n",
       "    </tr>\n",
       "    <tr>\n",
       "      <th>3</th>\n",
       "      <td>id_00073f8be_3</td>\n",
       "      <td>1.294310</td>\n",
       "      <td>1.173735</td>\n",
       "      <td>1.231078</td>\n",
       "      <td>1.625431</td>\n",
       "      <td>1.878171</td>\n",
       "    </tr>\n",
       "    <tr>\n",
       "      <th>4</th>\n",
       "      <td>id_00073f8be_4</td>\n",
       "      <td>0.789423</td>\n",
       "      <td>0.554897</td>\n",
       "      <td>0.508882</td>\n",
       "      <td>0.815670</td>\n",
       "      <td>0.878281</td>\n",
       "    </tr>\n",
       "  </tbody>\n",
       "</table>\n",
       "</div>"
      ],
      "text/plain": [
       "        id_seqpos  reactivity  deg_Mg_pH10  deg_pH10  deg_Mg_50C   deg_50C\n",
       "0  id_00073f8be_0    0.869267     0.657843  2.040880    0.544500  0.789857\n",
       "1  id_00073f8be_1    2.320747     3.411660  3.982939    3.212782  2.778019\n",
       "2  id_00073f8be_2    1.705457     0.707715  0.730908    0.795266  0.675442\n",
       "3  id_00073f8be_3    1.294310     1.173735  1.231078    1.625431  1.878171\n",
       "4  id_00073f8be_4    0.789423     0.554897  0.508882    0.815670  0.878281"
      ]
     },
     "execution_count": 26,
     "metadata": {},
     "output_type": "execute_result"
    }
   ],
   "source": [
    "best.head()"
   ]
  },
  {
   "cell_type": "code",
   "execution_count": 27,
   "metadata": {},
   "outputs": [
    {
     "data": {
      "text/html": [
       "<div>\n",
       "<style scoped>\n",
       "    .dataframe tbody tr th:only-of-type {\n",
       "        vertical-align: middle;\n",
       "    }\n",
       "\n",
       "    .dataframe tbody tr th {\n",
       "        vertical-align: top;\n",
       "    }\n",
       "\n",
       "    .dataframe thead th {\n",
       "        text-align: right;\n",
       "    }\n",
       "</style>\n",
       "<table border=\"1\" class=\"dataframe\">\n",
       "  <thead>\n",
       "    <tr style=\"text-align: right;\">\n",
       "      <th></th>\n",
       "      <th>id_seqpos</th>\n",
       "      <th>reactivity</th>\n",
       "      <th>deg_Mg_pH10</th>\n",
       "      <th>deg_pH10</th>\n",
       "      <th>deg_Mg_50C</th>\n",
       "      <th>deg_50C</th>\n",
       "    </tr>\n",
       "  </thead>\n",
       "  <tbody>\n",
       "    <tr>\n",
       "      <th>0</th>\n",
       "      <td>id_00073f8be_0</td>\n",
       "      <td>0.863907</td>\n",
       "      <td>0.630919</td>\n",
       "      <td>2.017569</td>\n",
       "      <td>0.558756</td>\n",
       "      <td>0.790366</td>\n",
       "    </tr>\n",
       "    <tr>\n",
       "      <th>1</th>\n",
       "      <td>id_00073f8be_1</td>\n",
       "      <td>2.351414</td>\n",
       "      <td>3.394688</td>\n",
       "      <td>3.957128</td>\n",
       "      <td>3.183696</td>\n",
       "      <td>2.756634</td>\n",
       "    </tr>\n",
       "    <tr>\n",
       "      <th>2</th>\n",
       "      <td>id_00073f8be_2</td>\n",
       "      <td>1.686853</td>\n",
       "      <td>0.687740</td>\n",
       "      <td>0.730113</td>\n",
       "      <td>0.783540</td>\n",
       "      <td>0.671883</td>\n",
       "    </tr>\n",
       "    <tr>\n",
       "      <th>3</th>\n",
       "      <td>id_00073f8be_3</td>\n",
       "      <td>1.315491</td>\n",
       "      <td>1.166142</td>\n",
       "      <td>1.238855</td>\n",
       "      <td>1.623494</td>\n",
       "      <td>1.909643</td>\n",
       "    </tr>\n",
       "    <tr>\n",
       "      <th>4</th>\n",
       "      <td>id_00073f8be_4</td>\n",
       "      <td>0.787645</td>\n",
       "      <td>0.557079</td>\n",
       "      <td>0.509155</td>\n",
       "      <td>0.810845</td>\n",
       "      <td>0.864316</td>\n",
       "    </tr>\n",
       "  </tbody>\n",
       "</table>\n",
       "</div>"
      ],
      "text/plain": [
       "        id_seqpos  reactivity  deg_Mg_pH10  deg_pH10  deg_Mg_50C   deg_50C\n",
       "0  id_00073f8be_0    0.863907     0.630919  2.017569    0.558756  0.790366\n",
       "1  id_00073f8be_1    2.351414     3.394688  3.957128    3.183696  2.756634\n",
       "2  id_00073f8be_2    1.686853     0.687740  0.730113    0.783540  0.671883\n",
       "3  id_00073f8be_3    1.315491     1.166142  1.238855    1.623494  1.909643\n",
       "4  id_00073f8be_4    0.787645     0.557079  0.509155    0.810845  0.864316"
      ]
     },
     "execution_count": 27,
     "metadata": {},
     "output_type": "execute_result"
    }
   ],
   "source": [
    "new_sub.head()"
   ]
  },
  {
   "cell_type": "code",
   "execution_count": null,
   "metadata": {},
   "outputs": [],
   "source": []
  }
 ],
 "metadata": {
  "kernelspec": {
   "display_name": "lyh",
   "language": "python",
   "name": "lyh"
  },
  "language_info": {
   "codemirror_mode": {
    "name": "ipython",
    "version": 3
   },
   "file_extension": ".py",
   "mimetype": "text/x-python",
   "name": "python",
   "nbconvert_exporter": "python",
   "pygments_lexer": "ipython3",
   "version": "3.7.7"
  }
 },
 "nbformat": 4,
 "nbformat_minor": 4
}
